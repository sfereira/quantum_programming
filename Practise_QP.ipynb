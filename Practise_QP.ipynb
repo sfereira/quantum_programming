{
 "cells": [
  {
   "cell_type": "code",
   "execution_count": 15,
   "id": "a146df65-ca46-47e0-97a7-7ca6ce5828e7",
   "metadata": {
    "tags": []
   },
   "outputs": [],
   "source": [
    "from qiskit import QuantumCircuit, ClassicalRegister, QuantumRegister\n",
    "from qiskit import Aer, execute\n",
    "import matplotlib.pyplot as plt"
   ]
  },
  {
   "cell_type": "code",
   "execution_count": 13,
   "id": "85411e4b-bf87-42cc-89ac-8d8cfa33750f",
   "metadata": {
    "tags": []
   },
   "outputs": [
    {
     "data": {
      "text/plain": [
       "<qiskit.circuit.instructionset.InstructionSet at 0x7fa6041e11b0>"
      ]
     },
     "execution_count": 13,
     "metadata": {},
     "output_type": "execute_result"
    }
   ],
   "source": [
    "# Define a quantum circuit with 2 qubits and 2 classical bits\n",
    "q = QuantumRegister(2)\n",
    "c = ClassicalRegister(2)\n",
    "qc = QuantumCircuit(q, c)\n",
    "\n",
    "# Apply a Hadamard gate to the first qubit\n",
    "qc.h(q[0])\n",
    "\n",
    "# Apply a CNOT gate between the first and second qubits\n",
    "qc.cx(q[0], q[1])\n",
    "\n",
    "# Measure the qubits and store the results in the classical bits\n",
    "qc.measure(q, c)"
   ]
  },
  {
   "cell_type": "code",
   "execution_count": 18,
   "id": "92358cfa-c66a-4ea8-bde8-9368120aabb7",
   "metadata": {
    "tags": []
   },
   "outputs": [
    {
     "data": {
      "image/png": "[encoded data removed]",
      "text/plain": [
       "<Figure size 491.18x284.278 with 1 Axes>"
      ]
     },
     "execution_count": 18,
     "metadata": {},
     "output_type": "execute_result"
    }
   ],
   "source": [
    "# Draw the circuit diagram using matplotlib\n",
    "qc.draw(output='mpl')"
   ]
  },
  {
   "cell_type": "code",
   "execution_count": 9,
   "id": "2b836b4e-795f-4028-984d-072b9a64d629",
   "metadata": {
    "tags": []
   },
   "outputs": [],
   "source": [
    "# Run the circuit on a simulator\n",
    "backend = Aer.get_backend('qasm_simulator')\n",
    "job = execute(qc, backend, shots=1000)\n",
    "result = job.result()"
   ]
  },
  {
   "cell_type": "code",
   "execution_count": 10,
   "id": "af0d0b34-0cf2-4a43-8cbe-fd077b088aec",
   "metadata": {
    "tags": []
   },
   "outputs": [
    {
     "name": "stdout",
     "output_type": "stream",
     "text": [
      "{'00': 494, '11': 506}\n"
     ]
    }
   ],
   "source": [
    "# Print the results\n",
    "counts = result.get_counts(qc)\n",
    "print(counts)"
   ]
  },
  {
   "cell_type": "code",
   "execution_count": null,
   "id": "57f34fe4-e66a-4972-b3b8-715ef57c710e",
   "metadata": {},
   "outputs": [],
   "source": []
  }
 ],
 "metadata": {
  "kernelspec": {
   "display_name": "Python 3 (ipykernel)",
   "language": "python",
   "name": "python3"
  },
  "language_info": {
   "codemirror_mode": {
    "name": "ipython",
    "version": 3
   },
   "file_extension": ".py",
   "mimetype": "text/x-python",
   "name": "python",
   "nbconvert_exporter": "python",
   "pygments_lexer": "ipython3",
   "version": "3.10.8"
  },
  "widgets": {
   "application/vnd.jupyter.widget-state+json": {
    "state": {},
    "version_major": 2,
    "version_minor": 0
   }
  }
 },
 "nbformat": 4,
 "nbformat_minor": 5
}
